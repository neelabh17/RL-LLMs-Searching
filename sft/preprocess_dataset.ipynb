{
 "cells": [
  {
   "cell_type": "code",
   "execution_count": 1,
   "id": "823d5c4c",
   "metadata": {},
   "outputs": [
    {
     "name": "stderr",
     "output_type": "stream",
     "text": [
      "/network/scratch/b/buvanesa/conda_envs/vppo/lib/python3.10/site-packages/tqdm/auto.py:21: TqdmWarning: IProgress not found. Please update jupyter and ipywidgets. See https://ipywidgets.readthedocs.io/en/stable/user_install.html\n",
      "  from .autonotebook import tqdm as notebook_tqdm\n"
     ]
    }
   ],
   "source": [
    "from datasets import load_dataset\n",
    "\n",
    "dataset = load_dataset('bicycleman15/2025-03-11_00.10.58.178573_star-graph-deg-5-path-5-nodes-300-Qwen2.5-14B')"
   ]
  },
  {
   "cell_type": "code",
   "execution_count": 2,
   "id": "aef566d4",
   "metadata": {},
   "outputs": [
    {
     "name": "stderr",
     "output_type": "stream",
     "text": [
      "Creating parquet from Arrow format: 100%|██████████| 13/13 [00:00<00:00, 313.04ba/s]\n",
      "Uploading the dataset shards: 100%|██████████| 1/1 [00:00<00:00,  2.10it/s]\n"
     ]
    },
    {
     "data": {
      "text/plain": [
       "CommitInfo(commit_url='https://huggingface.co/datasets/anirudhb11/deg-5-path-5-nodes-300-qwen-14bi-final-all/commit/bc3872e7e285ff3b1bf0beed3434ca61be0cd099', commit_message='Upload dataset', commit_description='', oid='bc3872e7e285ff3b1bf0beed3434ca61be0cd099', pr_url=None, repo_url=RepoUrl('https://huggingface.co/datasets/anirudhb11/deg-5-path-5-nodes-300-qwen-14bi-final-all', endpoint='https://huggingface.co', repo_type='dataset', repo_id='anirudhb11/deg-5-path-5-nodes-300-qwen-14bi-final-all'), pr_revision=None, pr_num=None)"
      ]
     },
     "execution_count": 2,
     "metadata": {},
     "output_type": "execute_result"
    }
   ],
   "source": [
    "# prefix_template = \"\"\"A conversation between User and Assistant. The user asks a question, and the Assistant solves it. The assistant first thinks about the reasoning process in the mind and then provides the user with the answer.\n",
    "# User: Given a graph in the form of '|' separated edges, output a path from source node to the destination node in the form of comma separated integers. For this question the graph is {}\\nThe source node is {}\\nThe destination node is {}. Show your work in <think> </think> tags. And return the final answer in <answer> </answer> tags, for example <answer> 14,2,3 </answer>.\n",
    "# Assistant: Let me solve this step by step.\n",
    "# <think>\"\"\"\n",
    "prefix_template = \"\"\"<|im_start|>system\\nYou are a helpful assistant. You first thinks about the reasoning process in the mind and then provides the user with the answer.<|im_end|>\\n<|im_start|>user\\n Given a graph in the form of '|' separated edges, output a path from source node to the destination node in the form of comma separated integers. For this question the graph is {}\\nThe source node is {}\\nThe destination node is {}. Show your work in <think> </think> tags. And return the final answer in <answer> </answer> tags, for example <answer> 14,2,3 </answer>.<|im_end|>\\n<|im_start|>assistant\\nLet me solve this step by step.\\n<think>\"\"\"\n",
    "DATASET_NAME = '2025-03-10_23.42.26.740895_star-graph-deg-5-path-5-nodes-300-Qwen2.5-14B-Instruct'\n",
    "dataset = load_dataset(f'bicycleman15/{DATASET_NAME}')\n",
    "flattened_correct_dataset_name = f'anirudhb11/deg-5-path-5-nodes-300-qwen-14bi-final-corr'\n",
    "flattened_all_dataset_name = f'anirudhb11/deg-5-path-5-nodes-300-qwen-14bi-final-all'\n",
    "\n",
    "train_dataset = dataset['train']\n",
    "features = list(train_dataset.features.keys())\n",
    "num_responses = max([int(feature.split('_')[-1]) for feature in features if feature.__contains__('response')]) + 1\n",
    "num_graphs = train_dataset.num_rows\n",
    "\n",
    "train_data = {\n",
    "    'question': [],\n",
    "    'answer': []\n",
    "    \n",
    "}\n",
    "\n",
    "for graph_indx in range(num_graphs):\n",
    "    for response_indx in range(num_responses):\n",
    "        graph = train_dataset[graph_indx]['graph']\n",
    "        source = train_dataset[graph_indx]['source']\n",
    "        destination = train_dataset[graph_indx]['destination']\n",
    "        response = train_dataset[graph_indx][f'response_{response_indx}']\n",
    "        correct = train_dataset[graph_indx][f'correct_{response_indx}']\n",
    "        \n",
    "        # need to correct prompt\n",
    "        train_data['question'].append(prefix_template.format(graph, source, destination))\n",
    "        \n",
    "        answer = response\n",
    "        answer = answer.replace('<reasoning>\\n', '')\n",
    "        answer = answer.replace('</reasoning>', '</think>')\n",
    "        train_data['answer'].append(answer)\n",
    "\n",
    "from datasets import Dataset, DatasetDict\n",
    "train_data = Dataset.from_dict(train_data)\n",
    "dataset_dict = DatasetDict({\n",
    "    \"train\": train_data\n",
    "})\n",
    "dataset_dict.push_to_hub(flattened_all_dataset_name)\n",
    "        "
   ]
  },
  {
   "cell_type": "code",
   "execution_count": 3,
   "id": "0e8e7162",
   "metadata": {},
   "outputs": [
    {
     "name": "stderr",
     "output_type": "stream",
     "text": [
      "Creating parquet from Arrow format: 100%|██████████| 7/7 [00:00<00:00, 335.69ba/s]\n",
      "Uploading the dataset shards: 100%|██████████| 1/1 [00:00<00:00,  2.80it/s]\n"
     ]
    },
    {
     "data": {
      "text/plain": [
       "CommitInfo(commit_url='https://huggingface.co/datasets/anirudhb11/deg-5-path-5-nodes-300-qwen-14bi-final-corr/commit/c4f2f04f444eda4f0aeee8bbb05d50c93a9a2680', commit_message='Upload dataset', commit_description='', oid='c4f2f04f444eda4f0aeee8bbb05d50c93a9a2680', pr_url=None, repo_url=RepoUrl('https://huggingface.co/datasets/anirudhb11/deg-5-path-5-nodes-300-qwen-14bi-final-corr', endpoint='https://huggingface.co', repo_type='dataset', repo_id='anirudhb11/deg-5-path-5-nodes-300-qwen-14bi-final-corr'), pr_revision=None, pr_num=None)"
      ]
     },
     "execution_count": 3,
     "metadata": {},
     "output_type": "execute_result"
    }
   ],
   "source": [
    "train_data = {\n",
    "    'question': [],\n",
    "    'answer': []\n",
    "    \n",
    "}\n",
    "\n",
    "for graph_indx in range(num_graphs):\n",
    "    for response_indx in range(num_responses):\n",
    "        graph = train_dataset[graph_indx]['graph']\n",
    "        source = train_dataset[graph_indx]['source']\n",
    "        destination = train_dataset[graph_indx]['destination']\n",
    "        response = train_dataset[graph_indx][f'response_{response_indx}']\n",
    "        correct = train_dataset[graph_indx][f'correct_{response_indx}']\n",
    "        if not correct:\n",
    "            continue\n",
    "        # need to correct prompt\n",
    "        train_data['question'].append(prefix_template.format(graph, source, destination))\n",
    "        \n",
    "        answer = response\n",
    "        answer = answer.replace('<reasoning>\\n', '')\n",
    "        answer = answer.replace('</reasoning>', '</think>')\n",
    "        train_data['answer'].append(answer)\n",
    "\n",
    "from datasets import Dataset, DatasetDict\n",
    "train_data = Dataset.from_dict(train_data)\n",
    "dataset_dict = DatasetDict({\n",
    "    \"train\": train_data\n",
    "})\n",
    "\n",
    "from datasets import Dataset, DatasetDict\n",
    "# train_data = Dataset.from_dict(train_data)\n",
    "dataset_dict = DatasetDict({\n",
    "    \"train\": train_data\n",
    "})\n",
    "dataset_dict.push_to_hub(flattened_correct_dataset_name)"
   ]
  },
  {
   "cell_type": "code",
   "execution_count": 4,
   "id": "ebd83cbb",
   "metadata": {},
   "outputs": [],
   "source": [
    "from transformers import AutoTokenizer\n",
    "\n",
    "tok = AutoTokenizer.from_pretrained('Qwen/Qwen2.5-1.5B')"
   ]
  },
  {
   "cell_type": "code",
   "execution_count": 5,
   "id": "5bb17043",
   "metadata": {},
   "outputs": [],
   "source": [
    "num_tokens = []\n",
    "for i in range(6076):\n",
    "    combined = f\"{train_data['question'][i]}\\n{train_data['answer'][i]}\"\n",
    "    num_tokens.append(len(tok.encode(combined)))"
   ]
  },
  {
   "cell_type": "code",
   "execution_count": 6,
   "id": "9739c1a6",
   "metadata": {},
   "outputs": [
    {
     "data": {
      "text/plain": [
       "(array([1.308e+03, 3.399e+03, 1.255e+03, 9.300e+01, 6.000e+00, 7.000e+00,\n",
       "        5.000e+00, 2.000e+00, 0.000e+00, 1.000e+00]),\n",
       " array([ 402. ,  702.7, 1003.4, 1304.1, 1604.8, 1905.5, 2206.2, 2506.9,\n",
       "        2807.6, 3108.3, 3409. ]),\n",
       " <BarContainer object of 10 artists>)"
      ]
     },
     "execution_count": 6,
     "metadata": {},
     "output_type": "execute_result"
    },
    {
     "data": {
      "image/png": "[encoded data removed]",
      "text/plain": [
       "<Figure size 640x480 with 1 Axes>"
      ]
     },
     "metadata": {},
     "output_type": "display_data"
    }
   ],
   "source": [
    "import numpy as np\n",
    "import matplotlib.pyplot as plt\n",
    "\n",
    "plt.hist(num_tokens)"
   ]
  },
  {
   "cell_type": "code",
   "execution_count": 7,
   "id": "e8c9a8a1",
   "metadata": {},
   "outputs": [],
   "source": [
    "incorrect_train_data = {\n",
    "    'question': [],\n",
    "    'answer': []\n",
    "    \n",
    "}\n",
    "\n",
    "for graph_indx in range(num_graphs):\n",
    "    for response_indx in range(num_responses):\n",
    "        graph = train_dataset[graph_indx]['graph']\n",
    "        source = train_dataset[graph_indx]['source']\n",
    "        destination = train_dataset[graph_indx]['destination']\n",
    "        response = train_dataset[graph_indx][f'response_{response_indx}']\n",
    "        correct = train_dataset[graph_indx][f'correct_{response_indx}']\n",
    "        if correct:\n",
    "            continue\n",
    "        # need to correct prompt\n",
    "        incorrect_train_data['question'].append(prefix_template.format(graph, source, destination))\n",
    "        \n",
    "        answer = response\n",
    "        answer = answer.replace('<reasoning>\\n', '')\n",
    "        answer = answer.replace('</reasoning>', '</think>')\n",
    "        incorrect_train_data['answer'].append(answer)\n",
    "\n"
   ]
  },
  {
   "cell_type": "code",
   "execution_count": 8,
   "id": "ea521687",
   "metadata": {},
   "outputs": [],
   "source": [
    "from datasets import Dataset, DatasetDict\n",
    "incorrect_train_data = Dataset.from_dict(incorrect_train_data)"
   ]
  },
  {
   "cell_type": "code",
   "execution_count": 9,
   "id": "4d839ab7",
   "metadata": {},
   "outputs": [
    {
     "data": {
      "text/plain": [
       "Dataset({\n",
       "    features: ['question', 'answer'],\n",
       "    num_rows: 6724\n",
       "})"
      ]
     },
     "execution_count": 9,
     "metadata": {},
     "output_type": "execute_result"
    }
   ],
   "source": [
    "incorrect_train_data"
   ]
  },
  {
   "cell_type": "code",
   "execution_count": 62,
   "id": "c61609b1",
   "metadata": {},
   "outputs": [],
   "source": [
    "num_tokens = []\n",
    "for i in range(6724):\n",
    "    combined = f\"{incorrect_train_data['question'][i]}\\n{incorrect_train_data['answer'][i]}\"\n",
    "    num_tokens.append(len(tok.encode(combined)))"
   ]
  },
  {
   "cell_type": "code",
   "execution_count": 63,
   "id": "b1a3528b",
   "metadata": {},
   "outputs": [
    {
     "data": {
      "text/plain": [
       "(array([3.517e+03, 2.770e+03, 3.040e+02, 3.400e+01, 8.000e+00, 3.000e+00,\n",
       "        3.000e+00, 2.000e+00, 0.000e+00, 8.300e+01]),\n",
       " array([ 408. ,  806.4, 1204.8, 1603.2, 2001.6, 2400. , 2798.4, 3196.8,\n",
       "        3595.2, 3993.6, 4392. ]),\n",
       " <BarContainer object of 10 artists>)"
      ]
     },
     "execution_count": 63,
     "metadata": {},
     "output_type": "execute_result"
    },
    {
     "data": {
      "image/png": "[encoded data removed]",
      "text/plain": [
       "<Figure size 640x480 with 1 Axes>"
      ]
     },
     "metadata": {},
     "output_type": "display_data"
    }
   ],
   "source": [
    "plt.hist(num_tokens)"
   ]
  },
  {
   "cell_type": "code",
   "execution_count": null,
   "id": "b837fc4e",
   "metadata": {},
   "outputs": [
    {
     "ename": "",
     "evalue": "",
     "output_type": "error",
     "traceback": [
      "\u001b[1;31mThe Kernel crashed while executing code in the current cell or a previous cell. \n",
      "\u001b[1;31mPlease review the code in the cell(s) to identify a possible cause of the failure. \n",
      "\u001b[1;31mClick <a href='https://aka.ms/vscodeJupyterKernelCrash'>here</a> for more info. \n",
      "\u001b[1;31mView Jupyter <a href='command:jupyter.viewOutput'>log</a> for further details."
     ]
    }
   ],
   "source": [
    "# Could not find response key\n",
    "# Max tokens\n",
    "# Push the entire mode."
   ]
  },
  {
   "cell_type": "code",
   "execution_count": 1,
   "id": "33cdf99c",
   "metadata": {},
   "outputs": [
    {
     "name": "stderr",
     "output_type": "stream",
     "text": [
      "/network/scratch/b/buvanesa/conda_envs/torch_cuda/lib/python3.12/site-packages/tqdm/auto.py:21: TqdmWarning: IProgress not found. Please update jupyter and ipywidgets. See https://ipywidgets.readthedocs.io/en/stable/user_install.html\n",
      "  from .autonotebook import tqdm as notebook_tqdm\n"
     ]
    }
   ],
   "source": [
    "from datasets import load_from_disk\n",
    "\n",
    "dataset = load_from_disk(\"Results/2025-04-15/00:29:07.768139_star-graph-deg-5-path-5-nodes-300-sft-qwen-1.5bi-deg-5-path-5-nodes-300-qwen-14bi-final2-corr\")"
   ]
  },
  {
   "cell_type": "code",
   "execution_count": 4,
   "id": "fe0b64aa",
   "metadata": {},
   "outputs": [
    {
     "data": {
      "text/plain": [
       "[0, 0, 1, 1, 1, 0, 0, 1, 0, 0]"
      ]
     },
     "execution_count": 4,
     "metadata": {},
     "output_type": "execute_result"
    }
   ],
   "source": [
    "dataset['correct_1']"
   ]
  },
  {
   "cell_type": "code",
   "execution_count": null,
   "id": "d2d344df",
   "metadata": {},
   "outputs": [],
   "source": []
  }
 ],
 "metadata": {
  "kernelspec": {
   "display_name": "torch_cuda",
   "language": "python",
   "name": "python3"
  },
  "language_info": {
   "codemirror_mode": {
    "name": "ipython",
    "version": 3
   },
   "file_extension": ".py",
   "mimetype": "text/x-python",
   "name": "python",
   "nbconvert_exporter": "python",
   "pygments_lexer": "ipython3",
   "version": "3.12.9"
  }
 },
 "nbformat": 4,
 "nbformat_minor": 5
}
